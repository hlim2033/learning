{
 "cells": [
  {
   "cell_type": "code",
   "execution_count": 8,
   "metadata": {},
   "outputs": [
    {
     "name": "stdout",
     "output_type": "stream",
     "text": [
      "Once deleted, variables cannot be recovered. Proceed (y/[n])? y\n"
     ]
    }
   ],
   "source": [
    "%reset\n",
    "%matplotlib inline\n",
    "import tensorflow as tf\n",
    "import numpy as np\n",
    "import matplotlib.pyplot as plt\n",
    "from numpy.random import multivariate_normal, permutation\n",
    "import pandas as pd \n",
    "from pandas import DataFrame, Series\n",
    "\n",
    "np.random.seed(20160614)\n",
    "tf.set_random_seed(20160614)"
   ]
  },
  {
   "cell_type": "code",
   "execution_count": 9,
   "metadata": {
    "collapsed": true
   },
   "outputs": [],
   "source": [
    "# TRAINING SET\n",
    "def generate_datablock(n, mu, var, t):\n",
    "    data = multivariate_normal(mu, np.eye(2)*var, n)\n",
    "    df = DataFrame(data, columns=['x1','x2'])\n",
    "    df['t'] = t\n",
    "    return df\n",
    "\n",
    "df0 = generate_datablock(15, [7,7], 22, 0)\n",
    "df1 = generate_datablock(15, [22,7], 22, 0)\n",
    "df2 = generate_datablock(10, [7,22], 22, 0)\n",
    "df3 = generate_datablock(25, [20,20], 22, 1)\n",
    "\n",
    "df = pd.concat([df0, df1, df2, df3], ignore_index=True)\n",
    "train_set = df.reindex(permutation(df.index)).reset_index(drop=True)\n",
    "\n",
    "train_x = train_set[['x1', 'x2']].as_matrix()\n",
    "train_t = train_set['t'].as_matrix().reshape([len(train_set),1])"
   ]
  },
  {
   "cell_type": "code",
   "execution_count": 10,
   "metadata": {},
   "outputs": [],
   "source": [
    "num_units = 4 # NUMBER OF NODES IN HIDDEN LAYER\n",
    "mult = train_x.flatten().mean()\n",
    "\n",
    "x = tf.placeholder(tf.float32, [None, 2])\n",
    "w1 = tf.Variable(tf.truncated_normal([2, num_units])) #RANDOM WEIGHTS FOR BEGGINING\n",
    "b1 = tf.Variable(tf.zeros([num_units]))\n",
    "hidden1 = tf.nn.tanh(tf.matmul(x, w1)+b1*mult) #B1*MULT -> PARAMETER OPTMIZATION SPEED INCREASES \n",
    "\n",
    "w0 = tf.Variable(tf.zeros([num_units, 1]))\n",
    "b0 = tf.Variable(tf.zeros([1]))\n",
    "p = tf.nn.sigmoid(tf.matmul(hidden1, w0) + b0*mult)"
   ]
  },
  {
   "cell_type": "code",
   "execution_count": 11,
   "metadata": {},
   "outputs": [],
   "source": [
    "t = tf.placeholder(tf.float32, [None,1])\n",
    "loss = -tf.reduce_sum(t*tf.log(p) + (1-t)*tf.log(1-p))\n",
    "train_step = tf.train.GradientDescentOptimizer(0.001).minimize(loss)\n",
    "correct_prediction = tf.equal(tf.sign(p-0.5), tf.sign(t-0.5))\n",
    "accuracy = tf.reduce_mean(tf.cast(correct_prediction, tf.float32))"
   ]
  },
  {
   "cell_type": "code",
   "execution_count": 12,
   "metadata": {},
   "outputs": [
    {
     "name": "stdout",
     "output_type": "stream",
     "text": [
      "WARNING:tensorflow:From /Users/Hongseo/anaconda/lib/python2.7/site-packages/tensorflow/python/util/tf_should_use.py:175: initialize_all_variables (from tensorflow.python.ops.variables) is deprecated and will be removed after 2017-03-02.\n",
      "Instructions for updating:\n",
      "Use `tf.global_variables_initializer` instead.\n",
      "Step : 100, Loss: 35.837921, Accuracy: 0.800000\n",
      "Step : 200, Loss: 45.464027, Accuracy: 0.584615\n",
      "Step : 300, Loss: 17.435017, Accuracy: 0.938462\n",
      "Step : 400, Loss: 10.916660, Accuracy: 0.969231\n",
      "Step : 500, Loss: 10.266551, Accuracy: 0.953846\n",
      "Step : 600, Loss: 9.706689, Accuracy: 0.953846\n",
      "Step : 700, Loss: 9.134423, Accuracy: 0.953846\n",
      "Step : 800, Loss: 8.669219, Accuracy: 0.953846\n",
      "Step : 900, Loss: 8.212896, Accuracy: 0.953846\n",
      "Step : 1000, Loss: 8.225047, Accuracy: 0.953846\n"
     ]
    }
   ],
   "source": [
    "sess = tf.InteractiveSession()\n",
    "sess.run(tf.initialize_all_variables())\n",
    "\n",
    "i=0\n",
    "for _ in range(1000):\n",
    "    i += 1\n",
    "    sess.run(train_step, feed_dict = {x: train_x, t:train_t})\n",
    "    if i % 100 == 0:\n",
    "        loss_val, acc_val = sess.run([loss, accuracy], feed_dict = {x: train_x, t:train_t})\n",
    "        print ('Step : %d, Loss: %f, Accuracy: %f' % (i, loss_val, acc_val))\n",
    "        "
   ]
  },
  {
   "cell_type": "code",
   "execution_count": 13,
   "metadata": {},
   "outputs": [
    {
     "data": {
      "text/plain": [
       "<matplotlib.image.AxesImage at 0x118a0df90>"
      ]
     },
     "execution_count": 13,
     "metadata": {},
     "output_type": "execute_result"
    },
    {
     "data": {
      "image/png": "[encoded data removed]",
      "text/plain": [
       "<matplotlib.figure.Figure at 0x11878bb50>"
      ]
     },
     "metadata": {},
     "output_type": "display_data"
    }
   ],
   "source": [
    "train_set1 = train_set[train_set['t']==1]\n",
    "train_set2 = train_set[train_set['t']==0]\n",
    "\n",
    "fig = plt.figure(figsize=(6,6))\n",
    "subplot = fig.add_subplot(1,1,1)\n",
    "subplot.set_ylim([0,30])\n",
    "subplot.set_xlim([0,30])\n",
    "subplot.scatter(train_set1.x1, train_set1.x2, marker='x')\n",
    "subplot.scatter(train_set2.x1, train_set2.x2, marker='o')\n",
    "\n",
    "locations = []\n",
    "for x2 in np.linspace(0,30,100):\n",
    "    for x1 in np.linspace(0,30,100):\n",
    "        locations.append((x1,x2))\n",
    "p_vals = sess.run(p, feed_dict={x:locations})\n",
    "p_vals = p_vals.reshape((100,100))\n",
    "subplot.imshow(p_vals, origin='lower', extent=(0,30,0,30),\n",
    "               cmap=plt.cm.gray_r, alpha=0.5)"
   ]
  },
  {
   "cell_type": "code",
   "execution_count": null,
   "metadata": {
    "collapsed": true
   },
   "outputs": [],
   "source": []
  }
 ],
 "metadata": {
  "kernelspec": {
   "display_name": "Python [Root]",
   "language": "python",
   "name": "Python [Root]"
  },
  "language_info": {
   "codemirror_mode": {
    "name": "ipython",
    "version": 2
   },
   "file_extension": ".py",
   "mimetype": "text/x-python",
   "name": "python",
   "nbconvert_exporter": "python",
   "pygments_lexer": "ipython2",
   "version": "2.7.13"
  }
 },
 "nbformat": 4,
 "nbformat_minor": 1
}
